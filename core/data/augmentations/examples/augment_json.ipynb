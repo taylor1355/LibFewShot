{
 "cells": [
  {
   "cell_type": "code",
   "execution_count": 4,
   "id": "94f59c53",
   "metadata": {},
   "outputs": [
    {
     "name": "stderr",
     "output_type": "stream",
     "text": [
      "[nltk_data] Downloading package wordnet to\n",
      "[nltk_data]     /nethome/sramshetty3/nltk_data...\n",
      "[nltk_data]   Package wordnet is already up-to-date!\n"
     ]
    },
    {
     "name": "stdout",
     "output_type": "stream",
     "text": [
      "generating augmentations for 10000 sentences\n",
      "Your input_length: 290 is bigger than 0.9 * max_length: 300. You might consider increasing your max_length manually, e.g. translator('...', max_length=400)\n",
      "1000\n",
      "Your input_length: 337 is bigger than 0.9 * max_length: 300. You might consider increasing your max_length manually, e.g. translator('...', max_length=400)\n",
      "2000\n",
      "Your input_length: 289 is bigger than 0.9 * max_length: 300. You might consider increasing your max_length manually, e.g. translator('...', max_length=400)\n",
      "3000\n",
      "4000\n",
      "Your input_length: 282 is bigger than 0.9 * max_length: 300. You might consider increasing your max_length manually, e.g. translator('...', max_length=400)\n",
      "5000\n",
      "Your input_length: 407 is bigger than 0.9 * max_length: 300. You might consider increasing your max_length manually, e.g. translator('...', max_length=400)\n",
      "6000\n",
      "7000\n",
      "Your input_length: 297 is bigger than 0.9 * max_length: 300. You might consider increasing your max_length manually, e.g. translator('...', max_length=400)\n",
      "8000\n",
      "9000\n",
      "10000\n",
      "generated augmented sentences for ../../../../datasets/amazon/amazon_train.json to ../../../../datasets/amazon/amazon_backtranslate_train.json\n"
     ]
    }
   ],
   "source": [
    "import nltk\n",
    "nltk.download('wordnet')\n",
    "!python ../augment_json.py --input=../../../../datasets/amazon/amazon_train.json --output=../../../../datasets/amazon/amazon_backtranslate_train.json --num_aug=3 --text_id='raw' --alpha_sr=0.2 --alpha_rd=0.1 --alpha_ri=0.2 --alpha_rs=0.1"
   ]
  },
  {
   "cell_type": "code",
   "execution_count": 6,
   "id": "c2a95da7",
   "metadata": {},
   "outputs": [
    {
     "data": {
      "text/plain": [
       "12051"
      ]
     },
     "execution_count": 6,
     "metadata": {},
     "output_type": "execute_result"
    }
   ],
   "source": [
    "import json\n",
    "examples = json.load(open(\"../../../../datasets/amazon/amazon_backtranslate_train.json\"))\n",
    "len(examples)"
   ]
  },
  {
   "cell_type": "code",
   "execution_count": 7,
   "id": "536ed3a6",
   "metadata": {},
   "outputs": [
    {
     "data": {
      "text/plain": [
       "10000"
      ]
     },
     "execution_count": 7,
     "metadata": {},
     "output_type": "execute_result"
    }
   ],
   "source": [
    "examples = json.load(open(\"../../../../datasets/amazon/amazon_train.json\"))\n",
    "len(examples)"
   ]
  },
  {
   "cell_type": "code",
   "execution_count": null,
   "id": "0593beef",
   "metadata": {},
   "outputs": [],
   "source": []
  }
 ],
 "metadata": {
  "kernelspec": {
   "display_name": "Python 3",
   "language": "python",
   "name": "python3"
  },
  "language_info": {
   "codemirror_mode": {
    "name": "ipython",
    "version": 3
   },
   "file_extension": ".py",
   "mimetype": "text/x-python",
   "name": "python",
   "nbconvert_exporter": "python",
   "pygments_lexer": "ipython3",
   "version": "3.8.8"
  }
 },
 "nbformat": 4,
 "nbformat_minor": 5
}
