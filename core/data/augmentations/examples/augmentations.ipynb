{
 "cells": [
  {
   "cell_type": "code",
   "execution_count": 1,
   "id": "bc1f93f4",
   "metadata": {},
   "outputs": [],
   "source": [
    "import sys\n",
    "sys.path.append('../')\n",
    "from transformer_augments import AugTransformer\n",
    "from eda import eda"
   ]
  },
  {
   "cell_type": "code",
   "execution_count": 2,
   "id": "f54e3511",
   "metadata": {},
   "outputs": [],
   "source": [
    "sentence = \"We have a lot of questions but no answers, would Paul be able to answer them?\""
   ]
  },
  {
   "cell_type": "code",
   "execution_count": 3,
   "id": "28cf7124",
   "metadata": {},
   "outputs": [
    {
     "data": {
      "text/plain": [
       "['we have a lot of questions but no answers would paul be able able bodied to answer them',\n",
       " 'paul have a lot of questions but no answers would we be able to answer them',\n",
       " 'we have a lot of questions but no answers would saint paul be able to answer them',\n",
       " 'we have a lot of questions but no answers would paul be able to resolve them',\n",
       " 'we have a lot of questions but no solution answers would paul be able to answer them',\n",
       " 'we have a lot of questions but no answers would paul be able to answer them ']"
      ]
     },
     "execution_count": 3,
     "metadata": {},
     "output_type": "execute_result"
    }
   ],
   "source": [
    "# Use eda with \n",
    "# alpha_sr = synonym replacement rate\n",
    "# alpha_ri = random insertion rate\n",
    "# alpha_rs = random swap rate\n",
    "# p_rd = probability of random deletion\n",
    "eda(sentence, alpha_sr=0.1, alpha_ri=0.1, alpha_rs=0.1, p_rd=0.1, num_aug=5)"
   ]
  },
  {
   "cell_type": "code",
   "execution_count": 4,
   "id": "6b32adc0",
   "metadata": {},
   "outputs": [
    {
     "name": "stderr",
     "output_type": "stream",
     "text": [
      "Special tokens have been added in the vocabulary, make sure the associated word embeddings are fine-tuned or trained.\n"
     ]
    }
   ],
   "source": [
    "aug_transformer = AugTransformer()"
   ]
  },
  {
   "cell_type": "code",
   "execution_count": 5,
   "id": "978fc75e",
   "metadata": {},
   "outputs": [
    {
     "name": "stderr",
     "output_type": "stream",
     "text": [
      "Setting `pad_token_id` to `eos_token_id`:50256 for open-end generation.\n"
     ]
    },
    {
     "name": "stdout",
     "output_type": "stream",
     "text": [
      "We have a lot of questions but\n"
     ]
    },
    {
     "data": {
      "text/plain": [
       "'We have a lot of questions but nobody can tell me, we just went for it'"
      ]
     },
     "execution_count": 5,
     "metadata": {},
     "output_type": "execute_result"
    }
   ],
   "source": [
    "# Generate extra text onto sentence\n",
    "snippet = \" \".join(sentence.split()[:7])\n",
    "print(snippet)\n",
    "aug_transformer.generate(snippet, 10)"
   ]
  },
  {
   "cell_type": "code",
   "execution_count": 6,
   "id": "3013076c",
   "metadata": {},
   "outputs": [
    {
     "data": {
      "text/plain": [
       "'we have many questions, but none answer, was paul in the location to answer them?'"
      ]
     },
     "execution_count": 6,
     "metadata": {},
     "output_type": "execute_result"
    }
   ],
   "source": [
    "# Backtranslate sentence\n",
    "aug_transformer.backtranslate(sentence)"
   ]
  },
  {
   "cell_type": "code",
   "execution_count": null,
   "id": "24651eaa",
   "metadata": {},
   "outputs": [],
   "source": []
  }
 ],
 "metadata": {
  "kernelspec": {
   "display_name": "Python 3",
   "language": "python",
   "name": "python3"
  },
  "language_info": {
   "codemirror_mode": {
    "name": "ipython",
    "version": 3
   },
   "file_extension": ".py",
   "mimetype": "text/x-python",
   "name": "python",
   "nbconvert_exporter": "python",
   "pygments_lexer": "ipython3",
   "version": "3.8.8"
  }
 },
 "nbformat": 4,
 "nbformat_minor": 5
}
